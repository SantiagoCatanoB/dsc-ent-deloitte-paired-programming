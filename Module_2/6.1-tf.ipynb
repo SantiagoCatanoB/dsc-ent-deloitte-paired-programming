{
 "cells": [
  {
   "cell_type": "markdown",
   "metadata": {
    "nbgrader": {
     "grade": false,
     "grade_id": "cell-a405f9c797c90edb",
     "locked": true,
     "schema_version": 3,
     "solution": false,
     "task": false
    }
   },
   "source": [
    "# TensorFlow Checkpoint\n",
    "\n",
    "This assessment covers building and training a `tf.keras` `Sequential` model, then applying regularization.  The dataset comes from a [\"don't overfit\" Kaggle competition](https://www.kaggle.com/c/dont-overfit-ii).  There are 300 features labeled 0-299, and a binary target called \"target\".  There are only 250 records total, meaning this is a very small dataset to be used with a neural network. \n",
    "\n",
    "_You can assume that the dataset has already been scaled._\n",
    "\n",
    "N.B. You may get comments from keras/ternsorflow regarding your kernel and runtime. These are completely normal and are informative comments, rather than warnings."
   ]
  },
  {
   "cell_type": "code",
   "execution_count": 64,
   "metadata": {
    "ExecuteTime": {
     "end_time": "2020-11-04T16:46:28.793582Z",
     "start_time": "2020-11-04T16:46:24.326301Z"
    },
    "nbgrader": {
     "grade": false,
     "grade_id": "cell-4ab18aba8319e5bb",
     "locked": true,
     "schema_version": 3,
     "solution": false,
     "task": false
    }
   },
   "outputs": [],
   "source": [
    "# Run this cell without changes\n",
    "\n",
    "import matplotlib.pyplot as plt\n",
    "import seaborn as sns\n",
    "\n",
    "import numpy as np\n",
    "import pandas as pd\n",
    "from sklearn.metrics import accuracy_score\n",
    "from sklearn.model_selection import train_test_split\n",
    "\n",
    "import tensorflow as tf\n",
    "from tensorflow.keras import Sequential, regularizers\n",
    "from tensorflow.keras.layers import Dense, Dropout\n",
    "from tensorflow.keras.wrappers.scikit_learn import KerasClassifier"
   ]
  },
  {
   "cell_type": "markdown",
   "metadata": {
    "nbgrader": {
     "grade": false,
     "grade_id": "cell-c7b992c89bbf7019",
     "locked": true,
     "schema_version": 3,
     "solution": false,
     "task": false
    }
   },
   "source": [
    "## 1) Prepare Data for Modeling\n",
    "\n",
    "* Using `pandas`, open the file `data.csv` as a DataFrame\n",
    "* Drop the `\"id\"` column, since this is a unique identifier and not a feature\n",
    "* Separate the data into `X` (a DataFrame with all columns except `\"target\"`) and `y` (a Series with just the `\"target\"` column)\n",
    "* The train-test split should work as-is once you create these variables"
   ]
  },
  {
   "cell_type": "code",
   "execution_count": 65,
   "metadata": {
    "nbgrader": {
     "grade": false,
     "grade_id": "cell-d01723acad72a02e",
     "locked": false,
     "schema_version": 3,
     "solution": true,
     "task": false
    }
   },
   "outputs": [
    {
     "data": {
      "text/plain": [
       "(187, 300)"
      ]
     },
     "execution_count": 65,
     "metadata": {},
     "output_type": "execute_result"
    }
   ],
   "source": [
    "# Replace None with appropriate code\n",
    "\n",
    "# Read in the data\n",
    "df = pd.read_csv('data.csv')\n",
    "\n",
    "# Drop the \"id\" column\n",
    "df = df.drop(['id'], axis=1)\n",
    "\n",
    "# Separate into X and y\n",
    "X = df.drop(['target'], axis=1)\n",
    "y = df['target']\n",
    "\n",
    "# Test/train split (set the random state to 2021) and check the X_Train shape\n",
    "X_train, X_test, y_train, y_test = train_test_split(X, y, random_state=2021)\n",
    "X_train.shape"
   ]
  },
  {
   "cell_type": "code",
   "execution_count": 66,
   "metadata": {},
   "outputs": [],
   "source": [
    "# Run this code block without any changes\n",
    "\n",
    "# Assert\n",
    "\n",
    "assert type(df) == pd.DataFrame\n",
    "assert type(X) == pd.DataFrame\n",
    "assert type(y) == pd.Series\n",
    "\n",
    "assert X_train.shape == (187, 300)\n",
    "assert y_train.shape == (187,)"
   ]
  },
  {
   "cell_type": "markdown",
   "metadata": {
    "nbgrader": {
     "grade": false,
     "grade_id": "cell-2aa2425f887ac9b0",
     "locked": true,
     "schema_version": 3,
     "solution": false,
     "task": false
    }
   },
   "source": [
    "## 2) Instantiate a `Sequential` Model\n",
    "\n",
    "In the cell below, create an instance of a `Sequential` model ([documentation here](https://keras.io/guides/sequential_model/)) called `dense_model` with a `name` of `\"dense\"` and otherwise default arguments.\n",
    "\n",
    "*In other words, create a model without any layers. We will add layers in a future step.*"
   ]
  },
  {
   "cell_type": "code",
   "execution_count": 67,
   "metadata": {
    "nbgrader": {
     "grade": false,
     "grade_id": "cell-6c7980c4f4e802ae",
     "locked": false,
     "schema_version": 3,
     "solution": true,
     "task": false
    }
   },
   "outputs": [],
   "source": [
    "# Replace None with appropriate code\n",
    "import keras\n",
    "from keras import layers\n",
    "\n",
    "dense_model = keras.Sequential(name=\"dense\")"
   ]
  },
  {
   "cell_type": "code",
   "execution_count": 68,
   "metadata": {
    "nbgrader": {
     "grade": true,
     "grade_id": "cell-4019299c1abee581",
     "locked": true,
     "points": 1,
     "schema_version": 3,
     "solution": false,
     "task": false
    }
   },
   "outputs": [],
   "source": [
    "# Run this code without change\n",
    "\n",
    "# Assert\n",
    "\n",
    "assert len(dense_model.layers) == 0\n",
    "assert type(dense_model) == Sequential\n",
    "assert dense_model.name == \"dense\"\n"
   ]
  },
  {
   "cell_type": "markdown",
   "metadata": {
    "nbgrader": {
     "grade": false,
     "grade_id": "cell-b777879670a57fbf",
     "locked": true,
     "schema_version": 3,
     "solution": false,
     "task": false
    }
   },
   "source": [
    "## 3) Determine Input and Output Shapes\n",
    "\n",
    "How many input and output nodes should this model have?\n",
    "\n",
    "Feel free to explore the attributes of `X` and `y` to determine this answer, or just to enter numbers based on the problem description above."
   ]
  },
  {
   "cell_type": "code",
   "execution_count": 69,
   "metadata": {},
   "outputs": [
    {
     "name": "stdout",
     "output_type": "stream",
     "text": [
      "<class 'pandas.core.frame.DataFrame'>\n",
      "RangeIndex: 250 entries, 0 to 249\n",
      "Columns: 300 entries, 0 to 299\n",
      "dtypes: float64(300)\n",
      "memory usage: 586.1 KB\n"
     ]
    }
   ],
   "source": [
    "X.info()"
   ]
  },
  {
   "cell_type": "code",
   "execution_count": 70,
   "metadata": {},
   "outputs": [
    {
     "data": {
      "text/plain": [
       "0    1.0\n",
       "1    0.0\n",
       "2    0.0\n",
       "3    1.0\n",
       "4    0.0\n",
       "Name: target, dtype: float64"
      ]
     },
     "execution_count": 70,
     "metadata": {},
     "output_type": "execute_result"
    }
   ],
   "source": [
    "y.head()"
   ]
  },
  {
   "cell_type": "code",
   "execution_count": 71,
   "metadata": {
    "nbgrader": {
     "grade": false,
     "grade_id": "cell-63ba55e28070fbb7",
     "locked": false,
     "schema_version": 3,
     "solution": true,
     "task": false
    }
   },
   "outputs": [],
   "source": [
    "# Replace None with appropriate code\n",
    "\n",
    "num_input_nodes = 300\n",
    "num_output_nodes = 1"
   ]
  },
  {
   "cell_type": "code",
   "execution_count": 72,
   "metadata": {
    "nbgrader": {
     "grade": true,
     "grade_id": "cell-f10eae123c0da13e",
     "locked": true,
     "points": 1,
     "schema_version": 3,
     "solution": false,
     "task": false
    }
   },
   "outputs": [
    {
     "data": {
      "text/plain": [
       "1.0"
      ]
     },
     "execution_count": 72,
     "metadata": {},
     "output_type": "execute_result"
    }
   ],
   "source": [
    "# Run this code without change\n",
    "\n",
    "# Both values should be integers\n",
    "assert type(num_input_nodes) == int\n",
    "assert type(num_output_nodes) == int\n",
    "\n",
    "score = 0\n",
    "\n",
    "# 300 features, so 300 input nodes\n",
    "if num_input_nodes == 300:\n",
    "    score += 0.5\n",
    "    \n",
    "# binary output, so 1 output node\n",
    "if num_output_nodes == 1:\n",
    "    score += 0.5\n",
    "elif num_output_nodes == 2:\n",
    "    # Partial credit for this answer, since it's technically\n",
    "    # possible to use 2 output nodes for this, although it's\n",
    "    # confusingly redundant\n",
    "    score += 0.25\n",
    "\n",
    "score"
   ]
  },
  {
   "cell_type": "markdown",
   "metadata": {
    "nbgrader": {
     "grade": false,
     "grade_id": "cell-1a3c44e684a51352",
     "locked": true,
     "schema_version": 3,
     "solution": false,
     "task": false
    }
   },
   "source": [
    "The code below will use the input and output shapes you specified to add `Dense` layers to the model:"
   ]
  },
  {
   "cell_type": "code",
   "execution_count": 73,
   "metadata": {},
   "outputs": [
    {
     "data": {
      "text/plain": [
       "[<tensorflow.python.keras.layers.core.Dense at 0x2582832d520>,\n",
       " <tensorflow.python.keras.layers.core.Dense at 0x2582832deb0>,\n",
       " <tensorflow.python.keras.layers.core.Dense at 0x2582832daf0>]"
      ]
     },
     "execution_count": 73,
     "metadata": {},
     "output_type": "execute_result"
    }
   ],
   "source": [
    "# Run this cell without changes\n",
    "\n",
    "# Add input layer\n",
    "dense_model.add(Dense(units=64, input_shape=(num_input_nodes,)))\n",
    "\n",
    "# Add hidden layers\n",
    "dense_model.add(Dense(units=64))\n",
    "dense_model.add(Dense(units=64))\n",
    "\n",
    "dense_model.layers"
   ]
  },
  {
   "cell_type": "markdown",
   "metadata": {
    "nbgrader": {
     "grade": false,
     "grade_id": "cell-8505e21901e1e252",
     "locked": true,
     "schema_version": 3,
     "solution": false,
     "task": false
    }
   },
   "source": [
    "## 4) Add an Output Layer\n",
    "\n",
    "Specify an appropriate activation function ([documentation here](https://keras.io/api/layers/activations/)).\n",
    "\n",
    "We'll simplify the problem by specifying that you should use the string identifier for the function, and it should be one of these options:\n",
    "\n",
    "* `sigmoid`\n",
    "* `softmax`\n",
    "\n",
    "***Hint:*** is this a binary or a multi-class problem? This should guide your choice of activation function."
   ]
  },
  {
   "cell_type": "code",
   "execution_count": 74,
   "metadata": {
    "nbgrader": {
     "grade": false,
     "grade_id": "cell-0aeea3d8ccac319e",
     "locked": false,
     "schema_version": 3,
     "solution": true,
     "task": false
    }
   },
   "outputs": [],
   "source": [
    "# Replace None with appropriate code\n",
    "activation_function = 'sigmoid'"
   ]
  },
  {
   "cell_type": "code",
   "execution_count": 75,
   "metadata": {
    "nbgrader": {
     "grade": true,
     "grade_id": "cell-332525f03472a594",
     "locked": true,
     "points": 1,
     "schema_version": 3,
     "solution": false,
     "task": false
    }
   },
   "outputs": [],
   "source": [
    "# Run this cell without changes\n",
    "\n",
    "# activation_function should be a string\n",
    "assert type(activation_function) == str\n",
    "\n",
    "if num_output_nodes == 1:\n",
    "    assert activation_function == \"sigmoid\"\n",
    "else:\n",
    "    # The number of output nodes _should_ be 1, but we'll\n",
    "    # give credit for a matching function even if the\n",
    "    # previous answer was incorrect\n",
    "    assert activation_function == \"softmax\""
   ]
  },
  {
   "cell_type": "markdown",
   "metadata": {
    "nbgrader": {
     "grade": false,
     "grade_id": "cell-5c793011c6345392",
     "locked": true,
     "schema_version": 3,
     "solution": false,
     "task": false
    }
   },
   "source": [
    "Now we'll use that information to finalize the model.\n",
    "\n",
    "If this code produces an error, consider restarting the kernel and re-running the code above. If it still produces an error, that is an indication that one or more of your answers above is incorrect."
   ]
  },
  {
   "cell_type": "code",
   "execution_count": 76,
   "metadata": {
    "nbgrader": {
     "grade": false,
     "grade_id": "cell-e04042f44ccb24bb",
     "locked": true,
     "schema_version": 3,
     "solution": false,
     "task": false
    }
   },
   "outputs": [
    {
     "name": "stdout",
     "output_type": "stream",
     "text": [
      "Model: \"dense\"\n",
      "_________________________________________________________________\n",
      "Layer (type)                 Output Shape              Param #   \n",
      "=================================================================\n",
      "dense_15 (Dense)             (None, 64)                19264     \n",
      "_________________________________________________________________\n",
      "dense_16 (Dense)             (None, 64)                4160      \n",
      "_________________________________________________________________\n",
      "dense_17 (Dense)             (None, 64)                4160      \n",
      "_________________________________________________________________\n",
      "dense_18 (Dense)             (None, 1)                 65        \n",
      "=================================================================\n",
      "Total params: 27,649\n",
      "Trainable params: 27,649\n",
      "Non-trainable params: 0\n",
      "_________________________________________________________________\n"
     ]
    }
   ],
   "source": [
    "# Run this cell without changes\n",
    "\n",
    "# Add output layer\n",
    "dense_model.add(Dense(units=num_output_nodes, activation=activation_function))\n",
    "\n",
    "# Determine appropriate loss function\n",
    "if num_output_nodes == 1:\n",
    "    loss = \"binary_crossentropy\"\n",
    "else:\n",
    "    loss = \"categorical_crossentropy\"\n",
    "\n",
    "# Compile model\n",
    "dense_model.compile(\n",
    "    optimizer=\"adam\",\n",
    "    loss=loss,\n",
    "    metrics=[\"accuracy\"]\n",
    ")\n",
    "\n",
    "dense_model.summary()"
   ]
  },
  {
   "cell_type": "code",
   "execution_count": 78,
   "metadata": {
    "nbgrader": {
     "grade": false,
     "grade_id": "cell-d54efbf306c08d85",
     "locked": true,
     "schema_version": 3,
     "solution": false,
     "task": false
    }
   },
   "outputs": [
    {
     "name": "stdout",
     "output_type": "stream",
     "text": [
      "Epoch 1/120\n",
      "1/1 [==============================] - 0s 410ms/step - loss: 1.2580 - accuracy: 0.4286 - val_loss: 0.9071 - val_accuracy: 0.6267\n",
      "Epoch 2/120\n",
      "1/1 [==============================] - 0s 41ms/step - loss: 0.9940 - accuracy: 0.5000 - val_loss: 0.8719 - val_accuracy: 0.5867\n",
      "Epoch 3/120\n",
      "1/1 [==============================] - 0s 29ms/step - loss: 0.7875 - accuracy: 0.6071 - val_loss: 0.8520 - val_accuracy: 0.5867\n",
      "Epoch 4/120\n",
      "1/1 [==============================] - 0s 32ms/step - loss: 0.6288 - accuracy: 0.6696 - val_loss: 0.8431 - val_accuracy: 0.5733\n",
      "Epoch 5/120\n",
      "1/1 [==============================] - 0s 32ms/step - loss: 0.5072 - accuracy: 0.7321 - val_loss: 0.8427 - val_accuracy: 0.5733\n",
      "Epoch 6/120\n",
      "1/1 [==============================] - 0s 40ms/step - loss: 0.4136 - accuracy: 0.8036 - val_loss: 0.8499 - val_accuracy: 0.5733\n",
      "Epoch 7/120\n",
      "1/1 [==============================] - 0s 35ms/step - loss: 0.3407 - accuracy: 0.8929 - val_loss: 0.8642 - val_accuracy: 0.5867\n",
      "Epoch 8/120\n",
      "1/1 [==============================] - 0s 39ms/step - loss: 0.2825 - accuracy: 0.9196 - val_loss: 0.8855 - val_accuracy: 0.6267\n",
      "Epoch 9/120\n",
      "1/1 [==============================] - 0s 24ms/step - loss: 0.2345 - accuracy: 0.9464 - val_loss: 0.9135 - val_accuracy: 0.6267\n",
      "Epoch 10/120\n",
      "1/1 [==============================] - 0s 30ms/step - loss: 0.1938 - accuracy: 0.9732 - val_loss: 0.9479 - val_accuracy: 0.6133\n",
      "Epoch 11/120\n",
      "1/1 [==============================] - 0s 32ms/step - loss: 0.1585 - accuracy: 0.9732 - val_loss: 0.9883 - val_accuracy: 0.6133\n",
      "Epoch 12/120\n",
      "1/1 [==============================] - 0s 42ms/step - loss: 0.1281 - accuracy: 0.9821 - val_loss: 1.0345 - val_accuracy: 0.5867\n",
      "Epoch 13/120\n",
      "1/1 [==============================] - 0s 31ms/step - loss: 0.1020 - accuracy: 0.9821 - val_loss: 1.0864 - val_accuracy: 0.5733\n",
      "Epoch 14/120\n",
      "1/1 [==============================] - 0s 34ms/step - loss: 0.0801 - accuracy: 1.0000 - val_loss: 1.1436 - val_accuracy: 0.5600\n",
      "Epoch 15/120\n",
      "1/1 [==============================] - 0s 44ms/step - loss: 0.0620 - accuracy: 1.0000 - val_loss: 1.2055 - val_accuracy: 0.5600\n",
      "Epoch 16/120\n",
      "1/1 [==============================] - 0s 28ms/step - loss: 0.0475 - accuracy: 1.0000 - val_loss: 1.2715 - val_accuracy: 0.5600\n",
      "Epoch 17/120\n",
      "1/1 [==============================] - 0s 22ms/step - loss: 0.0361 - accuracy: 1.0000 - val_loss: 1.3405 - val_accuracy: 0.5733\n",
      "Epoch 18/120\n",
      "1/1 [==============================] - 0s 33ms/step - loss: 0.0273 - accuracy: 1.0000 - val_loss: 1.4118 - val_accuracy: 0.5867\n",
      "Epoch 19/120\n",
      "1/1 [==============================] - 0s 31ms/step - loss: 0.0206 - accuracy: 1.0000 - val_loss: 1.4842 - val_accuracy: 0.6000\n",
      "Epoch 20/120\n",
      "1/1 [==============================] - 0s 33ms/step - loss: 0.0155 - accuracy: 1.0000 - val_loss: 1.5569 - val_accuracy: 0.6133\n",
      "Epoch 21/120\n",
      "1/1 [==============================] - 0s 33ms/step - loss: 0.0117 - accuracy: 1.0000 - val_loss: 1.6291 - val_accuracy: 0.6000\n",
      "Epoch 22/120\n",
      "1/1 [==============================] - 0s 42ms/step - loss: 0.0089 - accuracy: 1.0000 - val_loss: 1.7001 - val_accuracy: 0.6000\n",
      "Epoch 23/120\n",
      "1/1 [==============================] - 0s 48ms/step - loss: 0.0067 - accuracy: 1.0000 - val_loss: 1.7694 - val_accuracy: 0.6000\n",
      "Epoch 24/120\n",
      "1/1 [==============================] - 0s 26ms/step - loss: 0.0051 - accuracy: 1.0000 - val_loss: 1.8366 - val_accuracy: 0.5867\n",
      "Epoch 25/120\n",
      "1/1 [==============================] - 0s 31ms/step - loss: 0.0040 - accuracy: 1.0000 - val_loss: 1.9012 - val_accuracy: 0.5867\n",
      "Epoch 26/120\n",
      "1/1 [==============================] - 0s 48ms/step - loss: 0.0031 - accuracy: 1.0000 - val_loss: 1.9631 - val_accuracy: 0.5867\n",
      "Epoch 27/120\n",
      "1/1 [==============================] - 0s 33ms/step - loss: 0.0024 - accuracy: 1.0000 - val_loss: 2.0221 - val_accuracy: 0.5867\n",
      "Epoch 28/120\n",
      "1/1 [==============================] - 0s 32ms/step - loss: 0.0020 - accuracy: 1.0000 - val_loss: 2.0780 - val_accuracy: 0.5867\n",
      "Epoch 29/120\n",
      "1/1 [==============================] - 0s 35ms/step - loss: 0.0016 - accuracy: 1.0000 - val_loss: 2.1309 - val_accuracy: 0.5867\n",
      "Epoch 30/120\n",
      "1/1 [==============================] - 0s 32ms/step - loss: 0.0013 - accuracy: 1.0000 - val_loss: 2.1807 - val_accuracy: 0.5867\n",
      "Epoch 31/120\n",
      "1/1 [==============================] - 0s 37ms/step - loss: 0.0011 - accuracy: 1.0000 - val_loss: 2.2275 - val_accuracy: 0.5733\n",
      "Epoch 32/120\n",
      "1/1 [==============================] - 0s 33ms/step - loss: 9.0645e-04 - accuracy: 1.0000 - val_loss: 2.2714 - val_accuracy: 0.5733\n",
      "Epoch 33/120\n",
      "1/1 [==============================] - 0s 28ms/step - loss: 7.7150e-04 - accuracy: 1.0000 - val_loss: 2.3125 - val_accuracy: 0.5733\n",
      "Epoch 34/120\n",
      "1/1 [==============================] - 0s 32ms/step - loss: 6.6402e-04 - accuracy: 1.0000 - val_loss: 2.3508 - val_accuracy: 0.5733\n",
      "Epoch 35/120\n",
      "1/1 [==============================] - 0s 33ms/step - loss: 5.7753e-04 - accuracy: 1.0000 - val_loss: 2.3865 - val_accuracy: 0.5733\n",
      "Epoch 36/120\n",
      "1/1 [==============================] - 0s 40ms/step - loss: 5.0727e-04 - accuracy: 1.0000 - val_loss: 2.4198 - val_accuracy: 0.5733\n",
      "Epoch 37/120\n",
      "1/1 [==============================] - 0s 40ms/step - loss: 4.4965e-04 - accuracy: 1.0000 - val_loss: 2.4507 - val_accuracy: 0.5733\n",
      "Epoch 38/120\n",
      "1/1 [==============================] - 0s 50ms/step - loss: 4.0198e-04 - accuracy: 1.0000 - val_loss: 2.4794 - val_accuracy: 0.5733\n",
      "Epoch 39/120\n",
      "1/1 [==============================] - 0s 32ms/step - loss: 3.6221e-04 - accuracy: 1.0000 - val_loss: 2.5060 - val_accuracy: 0.5733\n",
      "Epoch 40/120\n",
      "1/1 [==============================] - 0s 27ms/step - loss: 3.2879e-04 - accuracy: 1.0000 - val_loss: 2.5307 - val_accuracy: 0.5733\n",
      "Epoch 41/120\n",
      "1/1 [==============================] - 0s 32ms/step - loss: 3.0049e-04 - accuracy: 1.0000 - val_loss: 2.5535 - val_accuracy: 0.5733\n",
      "Epoch 42/120\n",
      "1/1 [==============================] - 0s 30ms/step - loss: 2.7636e-04 - accuracy: 1.0000 - val_loss: 2.5746 - val_accuracy: 0.5733\n",
      "Epoch 43/120\n",
      "1/1 [==============================] - 0s 32ms/step - loss: 2.5566e-04 - accuracy: 1.0000 - val_loss: 2.5942 - val_accuracy: 0.5733\n",
      "Epoch 44/120\n",
      "1/1 [==============================] - 0s 35ms/step - loss: 2.3780e-04 - accuracy: 1.0000 - val_loss: 2.6123 - val_accuracy: 0.5733\n",
      "Epoch 45/120\n",
      "1/1 [==============================] - 0s 31ms/step - loss: 2.2230e-04 - accuracy: 1.0000 - val_loss: 2.6290 - val_accuracy: 0.5733\n",
      "Epoch 46/120\n",
      "1/1 [==============================] - 0s 47ms/step - loss: 2.0878e-04 - accuracy: 1.0000 - val_loss: 2.6445 - val_accuracy: 0.5733\n",
      "Epoch 47/120\n",
      "1/1 [==============================] - 0s 26ms/step - loss: 1.9693e-04 - accuracy: 1.0000 - val_loss: 2.6588 - val_accuracy: 0.5733\n",
      "Epoch 48/120\n",
      "1/1 [==============================] - 0s 32ms/step - loss: 1.8650e-04 - accuracy: 1.0000 - val_loss: 2.6720 - val_accuracy: 0.5733\n",
      "Epoch 49/120\n",
      "1/1 [==============================] - 0s 33ms/step - loss: 1.7728e-04 - accuracy: 1.0000 - val_loss: 2.6843 - val_accuracy: 0.5733\n",
      "Epoch 50/120\n",
      "1/1 [==============================] - 0s 50ms/step - loss: 1.6909e-04 - accuracy: 1.0000 - val_loss: 2.6956 - val_accuracy: 0.5733\n",
      "Epoch 51/120\n",
      "1/1 [==============================] - 0s 45ms/step - loss: 1.6179e-04 - accuracy: 1.0000 - val_loss: 2.7060 - val_accuracy: 0.5733\n",
      "Epoch 52/120\n",
      "1/1 [==============================] - 0s 31ms/step - loss: 1.5526e-04 - accuracy: 1.0000 - val_loss: 2.7157 - val_accuracy: 0.5733\n",
      "Epoch 53/120\n",
      "1/1 [==============================] - 0s 40ms/step - loss: 1.4940e-04 - accuracy: 1.0000 - val_loss: 2.7247 - val_accuracy: 0.5733\n",
      "Epoch 54/120\n",
      "1/1 [==============================] - 0s 35ms/step - loss: 1.4413e-04 - accuracy: 1.0000 - val_loss: 2.7330 - val_accuracy: 0.5733\n",
      "Epoch 55/120\n",
      "1/1 [==============================] - 0s 21ms/step - loss: 1.3936e-04 - accuracy: 1.0000 - val_loss: 2.7408 - val_accuracy: 0.5733\n",
      "Epoch 56/120\n",
      "1/1 [==============================] - 0s 35ms/step - loss: 1.3504e-04 - accuracy: 1.0000 - val_loss: 2.7479 - val_accuracy: 0.5733\n",
      "Epoch 57/120\n",
      "1/1 [==============================] - 0s 47ms/step - loss: 1.3111e-04 - accuracy: 1.0000 - val_loss: 2.7546 - val_accuracy: 0.5733\n",
      "Epoch 58/120\n"
     ]
    },
    {
     "name": "stdout",
     "output_type": "stream",
     "text": [
      "1/1 [==============================] - 0s 48ms/step - loss: 1.2753e-04 - accuracy: 1.0000 - val_loss: 2.7608 - val_accuracy: 0.5733\n",
      "Epoch 59/120\n",
      "1/1 [==============================] - 0s 35ms/step - loss: 1.2426e-04 - accuracy: 1.0000 - val_loss: 2.7666 - val_accuracy: 0.5733\n",
      "Epoch 60/120\n",
      "1/1 [==============================] - 0s 40ms/step - loss: 1.2126e-04 - accuracy: 1.0000 - val_loss: 2.7719 - val_accuracy: 0.5733\n",
      "Epoch 61/120\n",
      "1/1 [==============================] - 0s 44ms/step - loss: 1.1850e-04 - accuracy: 1.0000 - val_loss: 2.7770 - val_accuracy: 0.5733\n",
      "Epoch 62/120\n",
      "1/1 [==============================] - 0s 39ms/step - loss: 1.1597e-04 - accuracy: 1.0000 - val_loss: 2.7817 - val_accuracy: 0.5733\n",
      "Epoch 63/120\n",
      "1/1 [==============================] - 0s 29ms/step - loss: 1.1362e-04 - accuracy: 1.0000 - val_loss: 2.7861 - val_accuracy: 0.5733\n",
      "Epoch 64/120\n",
      "1/1 [==============================] - 0s 22ms/step - loss: 1.1145e-04 - accuracy: 1.0000 - val_loss: 2.7902 - val_accuracy: 0.5733\n",
      "Epoch 65/120\n",
      "1/1 [==============================] - 0s 25ms/step - loss: 1.0943e-04 - accuracy: 1.0000 - val_loss: 2.7941 - val_accuracy: 0.5733\n",
      "Epoch 66/120\n",
      "1/1 [==============================] - 0s 25ms/step - loss: 1.0755e-04 - accuracy: 1.0000 - val_loss: 2.7977 - val_accuracy: 0.5733\n",
      "Epoch 67/120\n",
      "1/1 [==============================] - 0s 34ms/step - loss: 1.0580e-04 - accuracy: 1.0000 - val_loss: 2.8012 - val_accuracy: 0.5733\n",
      "Epoch 68/120\n",
      "1/1 [==============================] - 0s 46ms/step - loss: 1.0416e-04 - accuracy: 1.0000 - val_loss: 2.8045 - val_accuracy: 0.5733\n",
      "Epoch 69/120\n",
      "1/1 [==============================] - 0s 32ms/step - loss: 1.0263e-04 - accuracy: 1.0000 - val_loss: 2.8075 - val_accuracy: 0.5733\n",
      "Epoch 70/120\n",
      "1/1 [==============================] - 0s 29ms/step - loss: 1.0118e-04 - accuracy: 1.0000 - val_loss: 2.8105 - val_accuracy: 0.5733\n",
      "Epoch 71/120\n",
      "1/1 [==============================] - 0s 39ms/step - loss: 9.9823e-05 - accuracy: 1.0000 - val_loss: 2.8132 - val_accuracy: 0.5733\n",
      "Epoch 72/120\n",
      "1/1 [==============================] - 0s 32ms/step - loss: 9.8539e-05 - accuracy: 1.0000 - val_loss: 2.8159 - val_accuracy: 0.5733\n",
      "Epoch 73/120\n",
      "1/1 [==============================] - 0s 39ms/step - loss: 9.7325e-05 - accuracy: 1.0000 - val_loss: 2.8184 - val_accuracy: 0.5733\n",
      "Epoch 74/120\n",
      "1/1 [==============================] - 0s 35ms/step - loss: 9.6173e-05 - accuracy: 1.0000 - val_loss: 2.8208 - val_accuracy: 0.5733\n",
      "Epoch 75/120\n",
      "1/1 [==============================] - 0s 40ms/step - loss: 9.5079e-05 - accuracy: 1.0000 - val_loss: 2.8232 - val_accuracy: 0.5733\n",
      "Epoch 76/120\n",
      "1/1 [==============================] - 0s 32ms/step - loss: 9.4037e-05 - accuracy: 1.0000 - val_loss: 2.8254 - val_accuracy: 0.5733\n",
      "Epoch 77/120\n",
      "1/1 [==============================] - 0s 37ms/step - loss: 9.3042e-05 - accuracy: 1.0000 - val_loss: 2.8275 - val_accuracy: 0.5733\n",
      "Epoch 78/120\n",
      "1/1 [==============================] - 0s 32ms/step - loss: 9.2092e-05 - accuracy: 1.0000 - val_loss: 2.8296 - val_accuracy: 0.5733\n",
      "Epoch 79/120\n",
      "1/1 [==============================] - 0s 37ms/step - loss: 9.1181e-05 - accuracy: 1.0000 - val_loss: 2.8316 - val_accuracy: 0.5733\n",
      "Epoch 80/120\n",
      "1/1 [==============================] - 0s 39ms/step - loss: 9.0306e-05 - accuracy: 1.0000 - val_loss: 2.8335 - val_accuracy: 0.5733\n",
      "Epoch 81/120\n",
      "1/1 [==============================] - 0s 34ms/step - loss: 8.9465e-05 - accuracy: 1.0000 - val_loss: 2.8354 - val_accuracy: 0.5733\n",
      "Epoch 82/120\n",
      "1/1 [==============================] - 0s 29ms/step - loss: 8.8656e-05 - accuracy: 1.0000 - val_loss: 2.8372 - val_accuracy: 0.5733\n",
      "Epoch 83/120\n",
      "1/1 [==============================] - 0s 32ms/step - loss: 8.7874e-05 - accuracy: 1.0000 - val_loss: 2.8390 - val_accuracy: 0.5733\n",
      "Epoch 84/120\n",
      "1/1 [==============================] - 0s 32ms/step - loss: 8.7119e-05 - accuracy: 1.0000 - val_loss: 2.8407 - val_accuracy: 0.5733\n",
      "Epoch 85/120\n",
      "1/1 [==============================] - 0s 49ms/step - loss: 8.6387e-05 - accuracy: 1.0000 - val_loss: 2.8424 - val_accuracy: 0.5733\n",
      "Epoch 86/120\n",
      "1/1 [==============================] - 0s 47ms/step - loss: 8.5679e-05 - accuracy: 1.0000 - val_loss: 2.8441 - val_accuracy: 0.5733\n",
      "Epoch 87/120\n",
      "1/1 [==============================] - 0s 31ms/step - loss: 8.4990e-05 - accuracy: 1.0000 - val_loss: 2.8457 - val_accuracy: 0.5733\n",
      "Epoch 88/120\n",
      "1/1 [==============================] - 0s 37ms/step - loss: 8.4321e-05 - accuracy: 1.0000 - val_loss: 2.8473 - val_accuracy: 0.5733\n",
      "Epoch 89/120\n",
      "1/1 [==============================] - 0s 54ms/step - loss: 8.3670e-05 - accuracy: 1.0000 - val_loss: 2.8489 - val_accuracy: 0.5733\n",
      "Epoch 90/120\n",
      "1/1 [==============================] - 0s 36ms/step - loss: 8.3035e-05 - accuracy: 1.0000 - val_loss: 2.8504 - val_accuracy: 0.5733\n",
      "Epoch 91/120\n",
      "1/1 [==============================] - 0s 38ms/step - loss: 8.2416e-05 - accuracy: 1.0000 - val_loss: 2.8519 - val_accuracy: 0.5733\n",
      "Epoch 92/120\n",
      "1/1 [==============================] - 0s 40ms/step - loss: 8.1811e-05 - accuracy: 1.0000 - val_loss: 2.8534 - val_accuracy: 0.5733\n",
      "Epoch 93/120\n",
      "1/1 [==============================] - 0s 51ms/step - loss: 8.1220e-05 - accuracy: 1.0000 - val_loss: 2.8549 - val_accuracy: 0.5733\n",
      "Epoch 94/120\n",
      "1/1 [==============================] - 0s 49ms/step - loss: 8.0641e-05 - accuracy: 1.0000 - val_loss: 2.8564 - val_accuracy: 0.5733\n",
      "Epoch 95/120\n",
      "1/1 [==============================] - 0s 33ms/step - loss: 8.0074e-05 - accuracy: 1.0000 - val_loss: 2.8578 - val_accuracy: 0.5733\n",
      "Epoch 96/120\n",
      "1/1 [==============================] - 0s 32ms/step - loss: 7.9518e-05 - accuracy: 1.0000 - val_loss: 2.8592 - val_accuracy: 0.5733\n",
      "Epoch 97/120\n",
      "1/1 [==============================] - 0s 31ms/step - loss: 7.8973e-05 - accuracy: 1.0000 - val_loss: 2.8607 - val_accuracy: 0.5733\n",
      "Epoch 98/120\n",
      "1/1 [==============================] - 0s 48ms/step - loss: 7.8437e-05 - accuracy: 1.0000 - val_loss: 2.8621 - val_accuracy: 0.5733\n",
      "Epoch 99/120\n",
      "1/1 [==============================] - 0s 44ms/step - loss: 7.7911e-05 - accuracy: 1.0000 - val_loss: 2.8635 - val_accuracy: 0.5733\n",
      "Epoch 100/120\n",
      "1/1 [==============================] - 0s 37ms/step - loss: 7.7393e-05 - accuracy: 1.0000 - val_loss: 2.8648 - val_accuracy: 0.5733\n",
      "Epoch 101/120\n",
      "1/1 [==============================] - 0s 35ms/step - loss: 7.6884e-05 - accuracy: 1.0000 - val_loss: 2.8662 - val_accuracy: 0.5733\n",
      "Epoch 102/120\n",
      "1/1 [==============================] - 0s 38ms/step - loss: 7.6382e-05 - accuracy: 1.0000 - val_loss: 2.8676 - val_accuracy: 0.5733\n",
      "Epoch 103/120\n",
      "1/1 [==============================] - 0s 31ms/step - loss: 7.5888e-05 - accuracy: 1.0000 - val_loss: 2.8689 - val_accuracy: 0.5733\n",
      "Epoch 104/120\n",
      "1/1 [==============================] - 0s 37ms/step - loss: 7.5402e-05 - accuracy: 1.0000 - val_loss: 2.8703 - val_accuracy: 0.5733\n",
      "Epoch 105/120\n",
      "1/1 [==============================] - 0s 40ms/step - loss: 7.4922e-05 - accuracy: 1.0000 - val_loss: 2.8716 - val_accuracy: 0.5733\n",
      "Epoch 106/120\n",
      "1/1 [==============================] - 0s 39ms/step - loss: 7.4448e-05 - accuracy: 1.0000 - val_loss: 2.8730 - val_accuracy: 0.5733\n",
      "Epoch 107/120\n",
      "1/1 [==============================] - 0s 33ms/step - loss: 7.3981e-05 - accuracy: 1.0000 - val_loss: 2.8743 - val_accuracy: 0.5733\n",
      "Epoch 108/120\n",
      "1/1 [==============================] - 0s 45ms/step - loss: 7.3520e-05 - accuracy: 1.0000 - val_loss: 2.8756 - val_accuracy: 0.5733\n",
      "Epoch 109/120\n",
      "1/1 [==============================] - 0s 34ms/step - loss: 7.3065e-05 - accuracy: 1.0000 - val_loss: 2.8769 - val_accuracy: 0.5733\n",
      "Epoch 110/120\n",
      "1/1 [==============================] - 0s 34ms/step - loss: 7.2615e-05 - accuracy: 1.0000 - val_loss: 2.8782 - val_accuracy: 0.5733\n",
      "Epoch 111/120\n",
      "1/1 [==============================] - 0s 32ms/step - loss: 7.2171e-05 - accuracy: 1.0000 - val_loss: 2.8795 - val_accuracy: 0.5733\n",
      "Epoch 112/120\n",
      "1/1 [==============================] - 0s 30ms/step - loss: 7.1732e-05 - accuracy: 1.0000 - val_loss: 2.8809 - val_accuracy: 0.5733\n",
      "Epoch 113/120\n",
      "1/1 [==============================] - 0s 25ms/step - loss: 7.1297e-05 - accuracy: 1.0000 - val_loss: 2.8822 - val_accuracy: 0.5733\n",
      "Epoch 114/120\n"
     ]
    },
    {
     "name": "stdout",
     "output_type": "stream",
     "text": [
      "1/1 [==============================] - 0s 37ms/step - loss: 7.0868e-05 - accuracy: 1.0000 - val_loss: 2.8835 - val_accuracy: 0.5733\n",
      "Epoch 115/120\n",
      "1/1 [==============================] - 0s 29ms/step - loss: 7.0443e-05 - accuracy: 1.0000 - val_loss: 2.8848 - val_accuracy: 0.5733\n",
      "Epoch 116/120\n",
      "1/1 [==============================] - 0s 35ms/step - loss: 7.0023e-05 - accuracy: 1.0000 - val_loss: 2.8860 - val_accuracy: 0.5733\n",
      "Epoch 117/120\n",
      "1/1 [==============================] - 0s 30ms/step - loss: 6.9607e-05 - accuracy: 1.0000 - val_loss: 2.8873 - val_accuracy: 0.5733\n",
      "Epoch 118/120\n",
      "1/1 [==============================] - 0s 29ms/step - loss: 6.9196e-05 - accuracy: 1.0000 - val_loss: 2.8886 - val_accuracy: 0.5733\n",
      "Epoch 119/120\n",
      "1/1 [==============================] - 0s 31ms/step - loss: 6.8788e-05 - accuracy: 1.0000 - val_loss: 2.8899 - val_accuracy: 0.5733\n",
      "Epoch 120/120\n",
      "1/1 [==============================] - 0s 37ms/step - loss: 6.8385e-05 - accuracy: 1.0000 - val_loss: 2.8912 - val_accuracy: 0.5733\n"
     ]
    }
   ],
   "source": [
    "# Replace None as necessary\n",
    "\n",
    "# Fit the model to the training data, using a subset of the\n",
    "# training data as validation data\n",
    "dense_model_results = dense_model.fit(\n",
    "    x=X_train,\n",
    "    y=y_train,\n",
    "    batch_size=250,\n",
    "    epochs=120,\n",
    "    verbose=1,\n",
    "    validation_split=0.4,\n",
    "    shuffle=True\n",
    ")"
   ]
  },
  {
   "cell_type": "code",
   "execution_count": 79,
   "metadata": {
    "nbgrader": {
     "grade": false,
     "grade_id": "cell-0639b5c80e98ab40",
     "locked": true,
     "schema_version": 3,
     "solution": false,
     "task": false
    }
   },
   "outputs": [
    {
     "data": {
      "image/png": "[encoded data removed]",
      "text/plain": [
       "<Figure size 720x360 with 2 Axes>"
      ]
     },
     "metadata": {
      "needs_background": "light"
     },
     "output_type": "display_data"
    }
   ],
   "source": [
    "# Run this cell without changes\n",
    "\n",
    "def plot_loss_and_accuracy(results, final=False):\n",
    "    \n",
    "    if final:\n",
    "        val_label=\"test\"\n",
    "    else:\n",
    "        val_label=\"validation\"\n",
    "\n",
    "    # Extracting metrics from model fitting\n",
    "    train_loss = results.history['loss']\n",
    "    val_loss = results.history['val_loss']\n",
    "    train_accuracy = results.history['accuracy']\n",
    "    val_accuracy = results.history['val_accuracy']\n",
    "\n",
    "    # Setting up plots\n",
    "    fig, (ax1, ax2) = plt.subplots(1, 2, figsize=(10, 5))\n",
    "\n",
    "    # Plotting loss info\n",
    "    ax1.set_title(\"Loss\")\n",
    "    sns.lineplot(x=results.epoch, y=train_loss, ax=ax1, label=\"train\")\n",
    "    sns.lineplot(x=results.epoch, y=val_loss, ax=ax1, label=val_label)\n",
    "    ax1.legend()\n",
    "\n",
    "    # Plotting accuracy info\n",
    "    ax2.set_title(\"Accuracy\")\n",
    "    sns.lineplot(x=results.epoch, y=train_accuracy, ax=ax2, label=\"train\")\n",
    "    sns.lineplot(x=results.epoch, y=val_accuracy, ax=ax2, label=val_label)\n",
    "    ax2.legend()\n",
    "    \n",
    "plot_loss_and_accuracy(dense_model_results)"
   ]
  },
  {
   "cell_type": "markdown",
   "metadata": {
    "nbgrader": {
     "grade": false,
     "grade_id": "cell-3ee94fdb73f6a0bd",
     "locked": true,
     "schema_version": 3,
     "solution": false,
     "task": false
    }
   },
   "source": [
    "## 5) Modify the Code Below to Use Regularization\n",
    "\n",
    "\n",
    "The model appears to be overfitting. To deal with this overfitting, modify the code below to include regularization in the model. You can add L1, L2, both L1 and L2, or dropout regularization.\n",
    "\n",
    "Hint: these might be helpful\n",
    "\n",
    " - [`Dense` layer documentation](https://keras.io/api/layers/core_layers/dense/)\n",
    " - [`regularizers` documentation](https://keras.io/regularizers/)\n",
    " \n",
    "(`EarlyStopping` is a type of regularization that is not applicable to this problem framing, since it's a callback and not a layer.)"
   ]
  },
  {
   "cell_type": "code",
   "execution_count": 81,
   "metadata": {
    "ExecuteTime": {
     "end_time": "2020-11-04T16:48:46.721530Z",
     "start_time": "2020-11-04T16:48:46.715001Z"
    },
    "nbgrader": {
     "grade": false,
     "grade_id": "cell-143a65663b1d4c26",
     "locked": false,
     "schema_version": 3,
     "solution": true,
     "task": false
    }
   },
   "outputs": [
    {
     "name": "stdout",
     "output_type": "stream",
     "text": [
      "Model: \"regularized\"\n",
      "_________________________________________________________________\n",
      "Layer (type)                 Output Shape              Param #   \n",
      "=================================================================\n",
      "dense_20 (Dense)             (None, 64)                19264     \n",
      "_________________________________________________________________\n",
      "dense_23 (Dense)             (None, 64)                4160      \n",
      "=================================================================\n",
      "Total params: 23,424\n",
      "Trainable params: 23,424\n",
      "Non-trainable params: 0\n",
      "_________________________________________________________________\n"
     ]
    }
   ],
   "source": [
    "# Complete the following code\n",
    "\n",
    "def build_model_with_regularization(n_input, n_output, activation, loss):\n",
    "    \"\"\"\n",
    "    Creates and compiles a tf.keras Sequential model with two hidden layers\n",
    "    This time regularization has been added\n",
    "    \"\"\"\n",
    "    # create classifier\n",
    "    classifier = Sequential(name=\"regularized\")\n",
    "\n",
    "    # add input layer\n",
    "    classifier.add(Dense(units=64, input_shape=(n_input,)))\n",
    "\n",
    "    # add hidden layers\n",
    "    dense_model.add(layers.Dense(50, activation='sigmoid'))\n",
    "    dense_model.add(layers.Dense(25, activation='sigmoid'))\n",
    "\n",
    "\n",
    "    # add output layer\n",
    "    \n",
    "    classifier.add(Dense(units=64, input_shape=(n_output,)))\n",
    "\n",
    "    classifier.compile(optimizer='adam', loss=loss, metrics=['accuracy'])\n",
    "    return classifier\n",
    "\n",
    "model_with_regularization = build_model_with_regularization(\n",
    "    num_input_nodes, num_output_nodes, activation_function, loss\n",
    ")\n",
    "model_with_regularization.summary()"
   ]
  },
  {
   "cell_type": "code",
   "execution_count": 82,
   "metadata": {
    "ExecuteTime": {
     "end_time": "2020-11-04T16:48:47.310049Z",
     "start_time": "2020-11-04T16:48:47.265185Z"
    },
    "code_folding": [],
    "nbgrader": {
     "grade": true,
     "grade_id": "cell-45429cad9bc0ca12",
     "locked": true,
     "points": 1,
     "schema_version": 3,
     "solution": false,
     "task": false
    }
   },
   "outputs": [
    {
     "data": {
      "text/plain": [
       "0.3"
      ]
     },
     "execution_count": 82,
     "metadata": {},
     "output_type": "execute_result"
    }
   ],
   "source": [
    "# Run the code below without change\n",
    "\n",
    "# Testing function to build model\n",
    "assert type(model_with_regularization) == Sequential\n",
    "\n",
    "def check_regularization(model):\n",
    "    regularization_count = 0\n",
    "    for layer in model.get_config()['layers']:\n",
    "        \n",
    "        # Checking if kernel regularizer was specified\n",
    "        if 'kernel_regularizer' in layer['config']:\n",
    "            if layer['config'].get('kernel_regularizer'):\n",
    "                regularization_count += 1\n",
    "                \n",
    "        # Checking if layer is dropout layer\n",
    "        if layer[\"class_name\"] == \"Dropout\":\n",
    "            regularization_count += 1\n",
    "            \n",
    "    return regularization_count > 0\n",
    "    \n",
    "score = .3\n",
    "\n",
    "if check_regularization(model_with_regularization):\n",
    "    score += .7\n",
    "    \n",
    "score"
   ]
  },
  {
   "cell_type": "markdown",
   "metadata": {
    "nbgrader": {
     "grade": false,
     "grade_id": "cell-b13c2342c3515ca5",
     "locked": true,
     "schema_version": 3,
     "solution": false,
     "task": false
    }
   },
   "source": [
    "Now we'll evaluate the new model on the training set as well:"
   ]
  },
  {
   "cell_type": "code",
   "execution_count": 83,
   "metadata": {
    "nbgrader": {
     "grade": false,
     "grade_id": "cell-87e75ce032ca5468",
     "locked": true,
     "schema_version": 3,
     "solution": false,
     "task": false
    }
   },
   "outputs": [
    {
     "data": {
      "image/png": "[encoded data removed]",
      "text/plain": [
       "<Figure size 720x360 with 2 Axes>"
      ]
     },
     "metadata": {
      "needs_background": "light"
     },
     "output_type": "display_data"
    }
   ],
   "source": [
    "# Run this cell without changes\n",
    "\n",
    "# Fit the model to the training data, using a subset of the\n",
    "# training data as validation data\n",
    "reg_model_results = model_with_regularization.fit(\n",
    "    x=X_train,\n",
    "    y=y_train,\n",
    "    batch_size=250,\n",
    "    epochs=20,\n",
    "    verbose=0,\n",
    "    validation_split=0.4,\n",
    "    shuffle=False\n",
    ")\n",
    "\n",
    "plot_loss_and_accuracy(reg_model_results)"
   ]
  },
  {
   "cell_type": "markdown",
   "metadata": {
    "nbgrader": {
     "grade": false,
     "grade_id": "cell-cdcc2db42e9c92a2",
     "locked": true,
     "schema_version": 3,
     "solution": false,
     "task": false
    }
   },
   "source": [
    "(Whether or not your regularization made a difference will partially depend on how strong of regularization you applied, as well as some random elements of your current TensorFlow configuration.)\n",
    "\n",
    "Now we evaluate both models on the holdout set:"
   ]
  },
  {
   "cell_type": "code",
   "execution_count": 84,
   "metadata": {},
   "outputs": [
    {
     "data": {
      "image/png": "[encoded data removed]",
      "text/plain": [
       "<Figure size 720x360 with 2 Axes>"
      ]
     },
     "metadata": {
      "needs_background": "light"
     },
     "output_type": "display_data"
    }
   ],
   "source": [
    "# Run this cell without changes\n",
    "\n",
    "final_dense_model_results = dense_model.fit(\n",
    "    x=X_train,\n",
    "    y=y_train,\n",
    "    batch_size=250,\n",
    "    epochs=20,\n",
    "    verbose=0,\n",
    "    validation_data=(X_test, y_test),\n",
    "    shuffle=False\n",
    ")\n",
    "\n",
    "plot_loss_and_accuracy(final_dense_model_results, final=True)"
   ]
  },
  {
   "cell_type": "markdown",
   "metadata": {},
   "source": [
    "Plot the loss and accuracy your final regularized model."
   ]
  },
  {
   "cell_type": "code",
   "execution_count": 86,
   "metadata": {},
   "outputs": [
    {
     "name": "stdout",
     "output_type": "stream",
     "text": [
      "Epoch 1/20\n",
      "1/1 [==============================] - 0s 126ms/step - loss: 4.5683 - accuracy: 0.0160 - val_loss: 4.4550 - val_accuracy: 0.0159\n",
      "Epoch 2/20\n",
      "1/1 [==============================] - 0s 43ms/step - loss: 4.5571 - accuracy: 0.0160 - val_loss: 4.4546 - val_accuracy: 0.0159\n",
      "Epoch 3/20\n",
      "1/1 [==============================] - 0s 49ms/step - loss: 4.5511 - accuracy: 0.0160 - val_loss: 4.4411 - val_accuracy: 0.0159\n",
      "Epoch 4/20\n",
      "1/1 [==============================] - 0s 51ms/step - loss: 4.5423 - accuracy: 0.0160 - val_loss: 4.4389 - val_accuracy: 0.0159\n",
      "Epoch 5/20\n",
      "1/1 [==============================] - 0s 32ms/step - loss: 4.5360 - accuracy: 0.0160 - val_loss: 4.4391 - val_accuracy: 0.0159\n",
      "Epoch 6/20\n",
      "1/1 [==============================] - 0s 34ms/step - loss: 4.5293 - accuracy: 0.0160 - val_loss: 4.4439 - val_accuracy: 0.0159\n",
      "Epoch 7/20\n",
      "1/1 [==============================] - 0s 32ms/step - loss: 4.5204 - accuracy: 0.0160 - val_loss: 4.4462 - val_accuracy: 0.0159\n",
      "Epoch 8/20\n",
      "1/1 [==============================] - 0s 36ms/step - loss: 4.5084 - accuracy: 0.0160 - val_loss: 4.4419 - val_accuracy: 0.0159\n",
      "Epoch 9/20\n",
      "1/1 [==============================] - 0s 39ms/step - loss: 4.4963 - accuracy: 0.0160 - val_loss: 4.4443 - val_accuracy: 0.0159\n",
      "Epoch 10/20\n",
      "1/1 [==============================] - 0s 49ms/step - loss: 4.4863 - accuracy: 0.0160 - val_loss: 4.4308 - val_accuracy: 0.0159\n",
      "Epoch 11/20\n",
      "1/1 [==============================] - 0s 33ms/step - loss: 4.4780 - accuracy: 0.0160 - val_loss: 4.4322 - val_accuracy: 0.0159\n",
      "Epoch 12/20\n",
      "1/1 [==============================] - 0s 32ms/step - loss: 4.4642 - accuracy: 0.0160 - val_loss: 4.4275 - val_accuracy: 0.0159\n",
      "Epoch 13/20\n",
      "1/1 [==============================] - 0s 36ms/step - loss: 4.4554 - accuracy: 0.0160 - val_loss: 4.4282 - val_accuracy: 0.0159\n",
      "Epoch 14/20\n",
      "1/1 [==============================] - 0s 22ms/step - loss: 4.4437 - accuracy: 0.0160 - val_loss: 4.4315 - val_accuracy: 0.0159\n",
      "Epoch 15/20\n",
      "1/1 [==============================] - 0s 40ms/step - loss: 4.4339 - accuracy: 0.0107 - val_loss: 4.4272 - val_accuracy: 0.0159\n",
      "Epoch 16/20\n",
      "1/1 [==============================] - 0s 47ms/step - loss: 4.4260 - accuracy: 0.0107 - val_loss: 4.4239 - val_accuracy: 0.0159\n",
      "Epoch 17/20\n",
      "1/1 [==============================] - 0s 38ms/step - loss: 4.4172 - accuracy: 0.0107 - val_loss: 4.4276 - val_accuracy: 0.0159\n",
      "Epoch 18/20\n",
      "1/1 [==============================] - 0s 36ms/step - loss: 4.4049 - accuracy: 0.0107 - val_loss: 4.4319 - val_accuracy: 0.0159\n",
      "Epoch 19/20\n",
      "1/1 [==============================] - 0s 25ms/step - loss: 4.3962 - accuracy: 0.0107 - val_loss: 4.4333 - val_accuracy: 0.0159\n",
      "Epoch 20/20\n",
      "1/1 [==============================] - 0s 36ms/step - loss: 4.3901 - accuracy: 0.0107 - val_loss: 4.4305 - val_accuracy: 0.0159\n"
     ]
    },
    {
     "data": {
      "image/png": "[encoded data removed]",
      "text/plain": [
       "<Figure size 720x360 with 2 Axes>"
      ]
     },
     "metadata": {
      "needs_background": "light"
     },
     "output_type": "display_data"
    }
   ],
   "source": [
    "# Replace None, as necessary\n",
    "\n",
    "final_reg_model_results = model_with_regularization.fit(\n",
    "    x=X_train,\n",
    "    y=y_train,\n",
    "    batch_size=250,\n",
    "    epochs=20,\n",
    "    verbose=1,\n",
    "    validation_data=(X_test, y_test),\n",
    "    shuffle=False\n",
    ")\n",
    "\n",
    "plot_loss_and_accuracy(final_reg_model_results, final=True)"
   ]
  },
  {
   "cell_type": "code",
   "execution_count": null,
   "metadata": {},
   "outputs": [],
   "source": []
  }
 ],
 "metadata": {
  "celltoolbar": "Create Assignment",
  "kernelspec": {
   "display_name": "Python 3",
   "language": "python",
   "name": "python3"
  },
  "language_info": {
   "codemirror_mode": {
    "name": "ipython",
    "version": 3
   },
   "file_extension": ".py",
   "mimetype": "text/x-python",
   "name": "python",
   "nbconvert_exporter": "python",
   "pygments_lexer": "ipython3",
   "version": "3.8.5"
  },
  "toc": {
   "base_numbering": 1,
   "nav_menu": {},
   "number_sections": false,
   "sideBar": true,
   "skip_h1_title": true,
   "title_cell": "Table of Contents",
   "title_sidebar": "Contents",
   "toc_cell": false,
   "toc_position": {},
   "toc_section_display": true,
   "toc_window_display": false
  },
  "varInspector": {
   "cols": {
    "lenName": 16,
    "lenType": 16,
    "lenVar": 40
   },
   "kernels_config": {
    "python": {
     "delete_cmd_postfix": "",
     "delete_cmd_prefix": "del ",
     "library": "var_list.py",
     "varRefreshCmd": "print(var_dic_list())"
    },
    "r": {
     "delete_cmd_postfix": ") ",
     "delete_cmd_prefix": "rm(",
     "library": "var_list.r",
     "varRefreshCmd": "cat(var_dic_list()) "
    }
   },
   "types_to_exclude": [
    "module",
    "function",
    "builtin_function_or_method",
    "instance",
    "_Feature"
   ],
   "window_display": false
  }
 },
 "nbformat": 4,
 "nbformat_minor": 4
}
